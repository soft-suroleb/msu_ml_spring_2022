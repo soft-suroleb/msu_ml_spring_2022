{
 "cells": [
  {
   "cell_type": "markdown",
   "metadata": {},
   "source": [
    "### Алгоритмы интеллектуальной обработки больших объемов данных\n",
    "## Домашнее задание №4 - Градиентный бустинг\n"
   ]
  },
  {
   "cell_type": "markdown",
   "metadata": {},
   "source": [
    "**Общая информация**\n",
    "\n",
    "**Срок сдачи:** 13 июня 2022, 08:30   \n",
    "**Штраф за опоздание:** -2 балла после 08:30 13 июня, -4 балла после 08:30 20 июня, -6 баллов после 08:30 24 мая, -8 баллов после 08:30 31 мая.\n",
    "\n",
    "При отправлении ДЗ указывайте фамилию в названии файла Присылать ДЗ необходимо в виде ссылки на свой github репозиторий на почту ml1.sphere@mail.ru с указанием темы в следующем формате:\n",
    "[ML0422, Задание 4] Фамилия Имя. \n",
    "\n",
    "\n",
    "Используйте данный Ipython Notebook при оформлении домашнего задания."
   ]
  },
  {
   "cell_type": "markdown",
   "metadata": {},
   "source": [
    "##  Считаем производные для функций потерь (1 балл)"
   ]
  },
  {
   "cell_type": "markdown",
   "metadata": {},
   "source": [
    "Мы будем реализовать градиентный бустинг для 3 функций потерь:\n",
    "\n",
    "1) MSE  $L(a(x_i), y_i) = (y_i - a(x_i)) ^ 2$\n",
    "\n",
    "2) Экспоненциальная  $L(a(x_i), y_i) = exp( -a(x_i) y_i), y_i \\in \\{-1, 1\\}$\n",
    "\n",
    "3) Логистическая  $L(a(x_i), y_i) = \\log (1 + exp( -a(x_i) y_i)), y_i \\in \\{-1, 1\\}$\n",
    "\n",
    "где $a(x_i)$ предсказание бустинга на итом объекте. \n",
    "\n",
    "Для каждой функции потерь напишите таргет, на который будет настраиваться каждое дерево в бустинге. "
   ]
  },
  {
   "cell_type": "markdown",
   "metadata": {},
   "source": [
    "$$ \\frac{\\sigma L(a(x_i), y_i)}{\\sigma a(x_i)} = 2(a(x_i) - y_i) \\Longrightarrow r = 2 * (y - a(x)) $$\n",
    "$$ \\frac{\\sigma e^{-a(x_i)y_i}}{\\sigma a(x_i)} = -y_ie^{-a(x_i)y_i} \\Longrightarrow r_i = y_ie^{-a(x_i)y_i} $$\n",
    "$$ \\frac{\\sigma \\log{(1+e^{-a(x_i)y_i})}}{\\sigma a(x_i)} = \\frac{-y_ie^{-a(x_i)y_i}}{1+e^{-a(x_i)y_i}} = \\frac{-y_i}{1 + e^{a(x_i)y_i}} \\Longrightarrow r_i = \\frac{y_i}{1 + e^{y_ia(x_i)}} $$"
   ]
  },
  {
   "cell_type": "markdown",
   "metadata": {},
   "source": [
    "##  Реализуем градиентный бустинг (3 балла)"
   ]
  },
  {
   "cell_type": "markdown",
   "metadata": {},
   "source": [
    "Реализуйте класс градиентного бустинга для классификации. Ваша реализация бустинга должна работать по точности не более чем на 5 процентов хуже чем GradientBoostingClassifier из sklearn. \n"
   ]
  },
  {
   "cell_type": "markdown",
   "metadata": {},
   "source": [
    "Детали реализации:\n",
    "\n",
    "-- должно поддерживаться 3 функции потерь\n",
    "\n",
    "-- сами базовые алгоритмы(деревья, линейные модели и тп) реализовать не надо, просто возьмите готовые из sklearn\n",
    "\n",
    "-- в качестве функции потерь для построения одного дерева используйте MSE\n",
    "\n",
    "-- шаг в бустинге можно не подбирать, можно брать константный\n",
    "\n",
    "-- можно брать разные модели в качестве инициализации бустинга\n",
    "\n",
    "-- должны поддерживаться следующие параметры:\n",
    "\n",
    "а) число итераций\n",
    "б) размер шага\n",
    "в) процент случайных фичей при построении одного дерева\n",
    "д) процент случайных объектов при построении одного дерева\n",
    "е) параметры базового алгоритма (передавайте через **kwargs)"
   ]
  },
  {
   "cell_type": "code",
   "execution_count": 248,
   "metadata": {
    "jupyter": {
     "outputs_hidden": true
    }
   },
   "outputs": [],
   "source": [
    "import numpy as np\n",
    "\n",
    "from sklearn.datasets import load_wine\n",
    "from sklearn.ensemble import RandomForestRegressor, RandomForestClassifier\n",
    "from sklearn.linear_model import LogisticRegression,LinearRegression\n",
    "from sklearn.svm import SVC\n",
    "from sklearn.ensemble import GradientBoostingClassifier\n",
    "from sklearn.metrics import accuracy_score\n",
    "from sklearn.model_selection import train_test_split\n",
    "from sklearn.tree import DecisionTreeRegressor\n",
    "import matplotlib.pyplot as plt\n",
    "from tqdm import tqdm"
   ]
  },
  {
   "cell_type": "code",
   "execution_count": 266,
   "metadata": {
    "jupyter": {
     "outputs_hidden": true
    }
   },
   "outputs": [],
   "source": [
    "class MyGradientBoostingClassifier:\n",
    "\n",
    "    def __init__(self, loss='mse', learning_rate=0.01, n_estimators=1000, colsample=1, subsample=1, *args, **kwargs):\n",
    "        \"\"\"\n",
    "        loss -- один из 3 лоссов:\n",
    "        learning_rate -- шаг бустинга\n",
    "        n_estimators -- число итераций\n",
    "        colsample -- процент рандомных признаков при обучнеии одного алгоритма\n",
    "        subsample -- процент рандомных объектов при обучнеии одного алгоритма\n",
    "        args, kwargs -- параметры  базовых моделей\n",
    "        \"\"\"\n",
    "        self.loss = loss\n",
    "        self.learning_rate = learning_rate\n",
    "        self.n_estimators = n_estimators\n",
    "        self.colsample = colsample\n",
    "        self.subsample = subsample\n",
    "        self.trees = []\n",
    "        self.f_idx = []\n",
    "        self.args = args\n",
    "        self.kwargs = kwargs\n",
    "    \n",
    "    def fit(self, X, y, base_model=DecisionTreeRegressor, init_model=None):\n",
    "        \"\"\"\n",
    "        X -- объекты для обучения:\n",
    "        y -- таргеты для обучения\n",
    "        base_model -- класс базовых моделей, например sklearn.tree.DecisionTreeRegressor\n",
    "        init_model -- класс для первой модели, если None то берем константу (только для посл задания)\n",
    "        \"\"\"\n",
    "        if init_model is None:\n",
    "            f = np.zeros([X.shape[0]])\n",
    "        else:\n",
    "            init_model.fit(X, y)\n",
    "            f = init_model.predict(X).astype('float64')\n",
    "            self.trees.append(init_model)\n",
    "            self.f_idx.append(np.arange(X.shape[1]))\n",
    "        for _ in tqdm(range(self.n_estimators)):\n",
    "            base_clf = base_model(*self.args, **self.kwargs)\n",
    "            obj_idx = np.random.choice(X.shape[0], int(self.subsample * X.shape[0]))\n",
    "            feat_idx = np.random.choice(X.shape[1], int(self.colsample * X.shape[1]))\n",
    "            X_new = X[np.ix_(obj_idx, feat_idx)]\n",
    "\n",
    "            if self.loss == 'mse':\n",
    "                r = 2 * (y[obj_idx] - f[obj_idx])\n",
    "            elif self.loss == 'exp':\n",
    "                r = y[obj_idx] * np.exp(-f[obj_idx] * y[obj_idx])\n",
    "            elif self.loss == 'log':\n",
    "                r = y[obj_idx] / (1 + np.exp(f[obj_idx] * y[obj_idx]))  \n",
    "\n",
    "            base_clf.fit(X_new, r)\n",
    "            f += self.learning_rate * base_clf.predict(X[:, feat_idx])\n",
    "            self.trees.append(base_clf)\n",
    "            self.f_idx.append(feat_idx)\n",
    "\n",
    "    def predict(self, X):\n",
    "        pred = np.zeros([X.shape[0]])\n",
    "        for i in range(self.n_estimators):\n",
    "            pred += self.learning_rate * self.trees[i].predict(X[:, self.f_idx[i]])\n",
    "        if (self.loss == \"mse\"):\n",
    "            return np.around(pred).astype(int)\n",
    "        elif (self.loss == \"log\" or self.loss == \"exp\"):\n",
    "            return (pred > 0.5).astype('int')"
   ]
  },
  {
   "cell_type": "code",
   "execution_count": 263,
   "metadata": {
    "scrolled": true
   },
   "outputs": [],
   "source": [
    "my_clf = MyGradientBoostingClassifier()\n",
    "clf = GradientBoostingClassifier()"
   ]
  },
  {
   "cell_type": "code",
   "execution_count": 187,
   "metadata": {
    "jupyter": {
     "outputs_hidden": true
    }
   },
   "outputs": [],
   "source": [
    "wine = load_wine()\n",
    "X_train, X_test, y_train, y_test = train_test_split(wine.data, wine.target, test_size=0.1, stratify=wine.target)"
   ]
  },
  {
   "cell_type": "code",
   "execution_count": 188,
   "metadata": {},
   "outputs": [
    {
     "name": "stderr",
     "output_type": "stream",
     "text": [
      "100%|██████████| 1000/1000 [00:01<00:00, 846.42it/s]\n"
     ]
    },
    {
     "name": "stdout",
     "output_type": "stream",
     "text": [
      "1.0\n",
      "1.0\n"
     ]
    }
   ],
   "source": [
    "my_clf.fit(X_train, y_train)\n",
    "clf.fit(X_train, y_train)\n",
    "print(accuracy_score(y_pred=clf.predict(X_test), y_true=y_test))\n",
    "print(accuracy_score(y_pred=my_clf.predict(X_test), y_true=y_test))"
   ]
  },
  {
   "cell_type": "markdown",
   "metadata": {},
   "source": [
    "## Подбираем параметры (2 балла)\n",
    "\n",
    "Давайте попробуем применить Ваш бустинг для предсказаний цены домов в Калифорнии. Чтобы можно было попробовтаь разные функции потерь, переведем по порогу таргет в 2 класса: дорогие и дешевые дома."
   ]
  },
  {
   "cell_type": "markdown",
   "metadata": {},
   "source": [
    "В задании нужно\n",
    "\n",
    "1) Построить график точности в зависимости от числа итераций на валидации.\n",
    "\n",
    "2) Подобрать оптимальные параметры Вашего бустинга на валидации. \n"
   ]
  },
  {
   "cell_type": "code",
   "execution_count": 251,
   "metadata": {},
   "outputs": [],
   "source": [
    "from sklearn.datasets import fetch_california_housing\n",
    "X, y = fetch_california_housing(return_X_y=True)"
   ]
  },
  {
   "cell_type": "code",
   "execution_count": 252,
   "metadata": {
    "scrolled": true
   },
   "outputs": [
    {
     "name": "stdout",
     "output_type": "stream",
     "text": [
      "(20640, 8) (20640,)\n"
     ]
    }
   ],
   "source": [
    "# Превращаем регрессию в классификацию\n",
    "y = (y > 2.0).astype(int)\n",
    "print(X.shape, y.shape)"
   ]
  },
  {
   "cell_type": "code",
   "execution_count": 253,
   "metadata": {
    "jupyter": {
     "outputs_hidden": true
    },
    "scrolled": true
   },
   "outputs": [],
   "source": [
    "X_train, X_test, y_train, y_test = train_test_split(X, y, test_size=0.1)"
   ]
  },
  {
   "cell_type": "code",
   "execution_count": 201,
   "metadata": {
    "scrolled": true
   },
   "outputs": [
    {
     "name": "stderr",
     "output_type": "stream",
     "text": [
      "100%|██████████| 1/1 [00:00<00:00,  9.46it/s]\n",
      "100%|██████████| 10/10 [00:01<00:00,  6.89it/s]\n",
      "100%|██████████| 20/20 [00:02<00:00,  6.71it/s]\n",
      "100%|██████████| 30/30 [00:04<00:00,  6.60it/s]\n",
      "100%|██████████| 40/40 [00:05<00:00,  6.72it/s]\n",
      "100%|██████████| 50/50 [00:07<00:00,  6.69it/s]\n",
      "100%|██████████| 60/60 [00:09<00:00,  6.63it/s]\n",
      "100%|██████████| 70/70 [00:10<00:00,  6.55it/s]\n",
      "100%|██████████| 80/80 [00:12<00:00,  6.62it/s]\n",
      "100%|██████████| 90/90 [00:14<00:00,  6.38it/s]\n",
      "100%|██████████| 100/100 [00:15<00:00,  6.54it/s]\n",
      "100%|██████████| 150/150 [00:24<00:00,  6.23it/s]\n",
      "100%|██████████| 200/200 [00:32<00:00,  6.16it/s]\n"
     ]
    }
   ],
   "source": [
    "n_est = [1, 10, 20, 30, 40, 50, 60, 70, 80, 90, 100, 150, 200]\n",
    "accur = []\n",
    "for i in n_est:\n",
    "    my_clf = MyGradientBoostingClassifier(n_estimators=i)\n",
    "    my_clf.fit(X_train, y_train)\n",
    "    accur.append(accuracy_score(y_pred=my_clf.predict(X_test), y_true=y_test))"
   ]
  },
  {
   "cell_type": "code",
   "execution_count": 203,
   "metadata": {
    "scrolled": false
   },
   "outputs": [
    {
     "data": {
      "image/png": "[encoded data removed]",
      "text/plain": [
       "<Figure size 432x288 with 1 Axes>"
      ]
     },
     "metadata": {
      "needs_background": "light"
     },
     "output_type": "display_data"
    }
   ],
   "source": [
    "plt.plot(n_est, accur)\n",
    "plt.title(\"Скор от кол-ва итераций\")\n",
    "plt.show()"
   ]
  },
  {
   "cell_type": "markdown",
   "metadata": {},
   "source": [
    "Начиная с 50 +- одно и тоже. Чем больше, конечно, лучше, но с 50 будет быстрее"
   ]
  },
  {
   "cell_type": "code",
   "execution_count": 208,
   "metadata": {},
   "outputs": [
    {
     "name": "stderr",
     "output_type": "stream",
     "text": [
      "100%|██████████| 50/50 [00:01<00:00, 32.82it/s]\n",
      "100%|██████████| 50/50 [00:02<00:00, 21.61it/s]\n",
      "100%|██████████| 50/50 [00:03<00:00, 15.95it/s]\n",
      "100%|██████████| 50/50 [00:03<00:00, 12.82it/s]\n",
      "100%|██████████| 50/50 [00:04<00:00, 10.48it/s]\n",
      "100%|██████████| 50/50 [00:05<00:00,  8.89it/s]\n",
      "100%|██████████| 50/50 [00:06<00:00,  7.64it/s]\n",
      "100%|██████████| 50/50 [00:07<00:00,  6.66it/s]\n"
     ]
    }
   ],
   "source": [
    "cs = np.linspace(0.2, 1, 8)\n",
    "accur = []\n",
    "for i in cs:\n",
    "    my_clf = MyGradientBoostingClassifier(colsample=i, n_estimators=50)\n",
    "    my_clf.fit(X_train, y_train)\n",
    "    accur.append(accuracy_score(y_pred=my_clf.predict(X_test), y_true=y_test))"
   ]
  },
  {
   "cell_type": "code",
   "execution_count": 209,
   "metadata": {
    "scrolled": false
   },
   "outputs": [
    {
     "data": {
      "image/png": "[encoded data removed]",
      "text/plain": [
       "<Figure size 432x288 with 1 Axes>"
      ]
     },
     "metadata": {
      "needs_background": "light"
     },
     "output_type": "display_data"
    }
   ],
   "source": [
    "plt.plot(cs, accur)\n",
    "plt.title(\"Скор от процента признаков\")\n",
    "plt.show()"
   ]
  },
  {
   "cell_type": "markdown",
   "metadata": {},
   "source": [
    "Лучше когда все признаки"
   ]
  },
  {
   "cell_type": "code",
   "execution_count": 211,
   "metadata": {
    "scrolled": true
   },
   "outputs": [
    {
     "name": "stderr",
     "output_type": "stream",
     "text": [
      "100%|██████████| 50/50 [00:01<00:00, 34.09it/s]\n",
      "100%|██████████| 50/50 [00:02<00:00, 21.46it/s]\n",
      "100%|██████████| 50/50 [00:03<00:00, 16.26it/s]\n",
      "100%|██████████| 50/50 [00:04<00:00, 11.93it/s]\n",
      "100%|██████████| 50/50 [00:04<00:00, 10.03it/s]\n",
      "100%|██████████| 50/50 [00:05<00:00,  8.52it/s]\n",
      "100%|██████████| 50/50 [00:06<00:00,  7.55it/s]\n",
      "100%|██████████| 50/50 [00:07<00:00,  6.85it/s]\n"
     ]
    }
   ],
   "source": [
    "ss = np.linspace(0.2, 1, 8)\n",
    "accur = []\n",
    "for i in cs:\n",
    "    my_clf = MyGradientBoostingClassifier(subsample=i, n_estimators=50)\n",
    "    my_clf.fit(X_train, y_train)\n",
    "    accur.append(accuracy_score(y_pred=my_clf.predict(X_test), y_true=y_test))"
   ]
  },
  {
   "cell_type": "code",
   "execution_count": 212,
   "metadata": {
    "scrolled": false
   },
   "outputs": [
    {
     "data": {
      "image/png": "[encoded data removed]",
      "text/plain": [
       "<Figure size 432x288 with 1 Axes>"
      ]
     },
     "metadata": {
      "needs_background": "light"
     },
     "output_type": "display_data"
    }
   ],
   "source": [
    "plt.plot(ss, accur)\n",
    "plt.title(\"Скор от процента кол-ва объектов\")\n",
    "plt.show()"
   ]
  },
  {
   "cell_type": "markdown",
   "metadata": {},
   "source": [
    "Лучше, когда все объекты"
   ]
  },
  {
   "cell_type": "code",
   "execution_count": 213,
   "metadata": {},
   "outputs": [
    {
     "name": "stderr",
     "output_type": "stream",
     "text": [
      "100%|██████████| 50/50 [00:13<00:00,  3.71it/s]\n",
      "100%|██████████| 50/50 [00:03<00:00, 13.75it/s]\n",
      "100%|██████████| 50/50 [00:10<00:00,  4.59it/s]\n",
      "100%|██████████| 50/50 [00:08<00:00,  5.77it/s]\n",
      "100%|██████████| 50/50 [00:07<00:00,  6.76it/s]\n",
      "100%|██████████| 50/50 [00:07<00:00,  6.78it/s]\n",
      "100%|██████████| 50/50 [00:07<00:00,  6.69it/s]\n"
     ]
    }
   ],
   "source": [
    "lr = [1, 0.5, 0.1, 0.05, 0.01, 0.005, 0.001]\n",
    "accur = []\n",
    "for i in lr:\n",
    "    my_clf = MyGradientBoostingClassifier(learning_rate=i, n_estimators=50)\n",
    "    my_clf.fit(X_train, y_train)\n",
    "    accur.append(accuracy_score(y_pred=my_clf.predict(X_test), y_true=y_test))"
   ]
  },
  {
   "cell_type": "code",
   "execution_count": 215,
   "metadata": {
    "scrolled": false
   },
   "outputs": [
    {
     "data": {
      "image/png": "[encoded data removed]",
      "text/plain": [
       "<Figure size 432x288 with 1 Axes>"
      ]
     },
     "metadata": {
      "needs_background": "light"
     },
     "output_type": "display_data"
    }
   ],
   "source": [
    "plt.plot(lr, accur)\n",
    "plt.title(\"Скор от шага\")\n",
    "plt.show()"
   ]
  },
  {
   "cell_type": "code",
   "execution_count": 221,
   "metadata": {
    "scrolled": true
   },
   "outputs": [
    {
     "name": "stderr",
     "output_type": "stream",
     "text": [
      "100%|██████████| 50/50 [00:00<00:00, 68.44it/s]\n",
      "100%|██████████| 50/50 [00:01<00:00, 40.78it/s]\n",
      "100%|██████████| 50/50 [00:01<00:00, 28.14it/s]\n",
      "100%|██████████| 50/50 [00:02<00:00, 18.70it/s]\n",
      "100%|██████████| 50/50 [00:03<00:00, 14.50it/s]\n",
      "100%|██████████| 50/50 [00:04<00:00, 10.15it/s]\n",
      "100%|██████████| 50/50 [00:06<00:00,  8.08it/s]\n"
     ]
    }
   ],
   "source": [
    "depth = [1, 2, 3, 5, 7, 11, 15]\n",
    "accur = []\n",
    "for i in depth:\n",
    "    my_clf = MyGradientBoostingClassifier(learning_rate=0.05, n_estimators=50, max_depth=i)\n",
    "    my_clf.fit(X_train, y_train)\n",
    "    accur.append(accuracy_score(y_pred=my_clf.predict(X_test), y_true=y_test))"
   ]
  },
  {
   "cell_type": "code",
   "execution_count": 222,
   "metadata": {
    "scrolled": true
   },
   "outputs": [
    {
     "data": {
      "image/png": "[encoded data removed]",
      "text/plain": [
       "<Figure size 432x288 with 1 Axes>"
      ]
     },
     "metadata": {
      "needs_background": "light"
     },
     "output_type": "display_data"
    }
   ],
   "source": [
    "plt.plot(depth, accur)\n",
    "plt.title(\"Скор от глубины дерева\")\n",
    "plt.show()"
   ]
  },
  {
   "cell_type": "markdown",
   "metadata": {},
   "source": [
    "Наилучшая глубина - 11"
   ]
  },
  {
   "cell_type": "code",
   "execution_count": 223,
   "metadata": {
    "jupyter": {
     "outputs_hidden": true
    },
    "scrolled": true
   },
   "outputs": [
    {
     "name": "stderr",
     "output_type": "stream",
     "text": [
      "100%|██████████| 50/50 [00:04<00:00, 10.06it/s]\n"
     ]
    },
    {
     "data": {
      "text/plain": [
       "0.9079457364341085"
      ]
     },
     "execution_count": 223,
     "metadata": {},
     "output_type": "execute_result"
    }
   ],
   "source": [
    "my_clf = MyGradientBoostingClassifier(loss='mse', learning_rate=0.05, n_estimators=50, max_depth=11)\n",
    "my_clf.fit(X_train, y_train)\n",
    "accuracy_score(y_pred=my_clf.predict(X_test), y_true=y_test)"
   ]
  },
  {
   "cell_type": "code",
   "execution_count": 224,
   "metadata": {},
   "outputs": [
    {
     "name": "stderr",
     "output_type": "stream",
     "text": [
      "100%|██████████| 50/50 [00:04<00:00, 10.74it/s]\n"
     ]
    },
    {
     "data": {
      "text/plain": [
       "0.8948643410852714"
      ]
     },
     "execution_count": 224,
     "metadata": {},
     "output_type": "execute_result"
    }
   ],
   "source": [
    "my_clf = MyGradientBoostingClassifier(loss='log', learning_rate=0.05, n_estimators=50, max_depth=11)\n",
    "my_clf.fit(X_train, y_train)\n",
    "accuracy_score(y_pred=my_clf.predict(X_test), y_true=y_test)"
   ]
  },
  {
   "cell_type": "code",
   "execution_count": 225,
   "metadata": {},
   "outputs": [
    {
     "name": "stderr",
     "output_type": "stream",
     "text": [
      "100%|██████████| 50/50 [00:04<00:00, 10.68it/s]\n"
     ]
    },
    {
     "data": {
      "text/plain": [
       "0.8633720930232558"
      ]
     },
     "execution_count": 225,
     "metadata": {},
     "output_type": "execute_result"
    }
   ],
   "source": [
    "my_clf = MyGradientBoostingClassifier(loss='exp', learning_rate=0.05, n_estimators=50, max_depth=11)\n",
    "my_clf.fit(X_train, y_train)\n",
    "accuracy_score(y_pred=my_clf.predict(X_test), y_true=y_test)"
   ]
  },
  {
   "cell_type": "markdown",
   "metadata": {},
   "source": [
    "## BooBag BagBoo (1 балл)\n",
    "\n"
   ]
  },
  {
   "cell_type": "markdown",
   "metadata": {},
   "source": [
    "Попробуем объединить бустинг и бэгинг. Давайте\n",
    "\n",
    "1) в качестве базовой модели брать не дерево решений, а случайный лес (из sklearn)\n",
    "\n",
    "2) обучать N бустингов на бустрапированной выборке, а затем предикт усреднять"
   ]
  },
  {
   "cell_type": "markdown",
   "metadata": {},
   "source": [
    "Попробуйте обе этих стратегии на данных из прошлого задания. Получилось ли улучшить качество? Почему?"
   ]
  },
  {
   "cell_type": "code",
   "execution_count": 227,
   "metadata": {
    "jupyter": {
     "outputs_hidden": true
    },
    "scrolled": true
   },
   "outputs": [
    {
     "name": "stderr",
     "output_type": "stream",
     "text": [
      "100%|██████████| 50/50 [05:19<00:00,  6.40s/it]\n"
     ]
    },
    {
     "data": {
      "text/plain": [
       "0.9060077519379846"
      ]
     },
     "execution_count": 227,
     "metadata": {},
     "output_type": "execute_result"
    }
   ],
   "source": [
    "clf = MyGradientBoostingClassifier(loss='mse', learning_rate=0.05, n_estimators=50, max_depth=11)\n",
    "clf.fit(X_train, y_train, base_model=RandomForestRegressor)\n",
    "accuracy_score(clf.predict(X_test), y_test)"
   ]
  },
  {
   "cell_type": "code",
   "execution_count": 242,
   "metadata": {
    "jupyter": {
     "outputs_hidden": true
    },
    "scrolled": true
   },
   "outputs": [
    {
     "name": "stderr",
     "output_type": "stream",
     "text": [
      "100%|██████████| 50/50 [00:05<00:00,  9.97it/s]\n",
      "100%|██████████| 50/50 [00:04<00:00, 10.00it/s]\n",
      "100%|██████████| 50/50 [00:04<00:00, 10.18it/s]\n",
      "100%|██████████| 50/50 [00:05<00:00,  9.99it/s]\n",
      "100%|██████████| 50/50 [00:05<00:00,  9.83it/s]\n",
      "100%|██████████| 50/50 [00:05<00:00,  9.93it/s]\n",
      "100%|██████████| 50/50 [00:04<00:00, 10.22it/s]\n",
      "100%|██████████| 50/50 [00:04<00:00, 10.13it/s]\n",
      "100%|██████████| 50/50 [00:04<00:00, 10.21it/s]\n",
      "100%|██████████| 50/50 [00:04<00:00, 10.28it/s]\n",
      "100%|██████████| 50/50 [00:05<00:00,  9.84it/s]\n",
      "100%|██████████| 50/50 [00:05<00:00,  9.62it/s]\n",
      "100%|██████████| 50/50 [00:05<00:00,  9.68it/s]\n",
      "100%|██████████| 50/50 [00:05<00:00,  9.74it/s]\n",
      "100%|██████████| 50/50 [00:05<00:00,  9.83it/s]\n",
      "100%|██████████| 50/50 [00:04<00:00, 10.15it/s]\n",
      "100%|██████████| 50/50 [00:05<00:00,  9.75it/s]\n",
      "100%|██████████| 50/50 [00:05<00:00,  9.76it/s]\n",
      "100%|██████████| 50/50 [00:04<00:00, 10.11it/s]\n",
      "100%|██████████| 50/50 [00:05<00:00,  9.91it/s]\n",
      "100%|██████████| 50/50 [00:05<00:00,  9.87it/s]\n",
      "100%|██████████| 50/50 [00:05<00:00,  9.99it/s]\n",
      "100%|██████████| 50/50 [00:05<00:00,  9.93it/s]\n",
      "100%|██████████| 50/50 [00:05<00:00,  9.59it/s]\n",
      "100%|██████████| 50/50 [00:05<00:00,  9.74it/s]\n",
      "100%|██████████| 50/50 [00:05<00:00,  9.91it/s]\n",
      "100%|██████████| 50/50 [00:05<00:00,  9.94it/s]\n",
      "100%|██████████| 50/50 [00:05<00:00,  9.70it/s]\n",
      "100%|██████████| 50/50 [00:05<00:00,  9.82it/s]\n",
      "100%|██████████| 50/50 [00:05<00:00,  9.61it/s]\n",
      "100%|██████████| 50/50 [00:05<00:00,  9.94it/s]\n",
      "100%|██████████| 50/50 [00:05<00:00,  9.84it/s]\n",
      "100%|██████████| 50/50 [00:05<00:00,  9.80it/s]\n",
      "100%|██████████| 50/50 [00:05<00:00,  9.68it/s]\n",
      "100%|██████████| 50/50 [00:05<00:00,  9.90it/s]\n",
      "100%|██████████| 50/50 [00:05<00:00,  9.87it/s]\n",
      "100%|██████████| 50/50 [00:05<00:00,  9.93it/s]\n",
      "100%|██████████| 50/50 [00:05<00:00,  9.71it/s]\n",
      "100%|██████████| 50/50 [00:05<00:00,  9.86it/s]\n",
      "100%|██████████| 50/50 [00:04<00:00, 10.04it/s]\n",
      "100%|██████████| 50/50 [00:05<00:00,  9.93it/s]\n",
      "100%|██████████| 50/50 [00:05<00:00,  9.48it/s]\n",
      "100%|██████████| 50/50 [00:05<00:00,  9.97it/s]\n",
      "100%|██████████| 50/50 [00:05<00:00,  9.80it/s]\n",
      "100%|██████████| 50/50 [00:04<00:00, 10.08it/s]\n",
      "100%|██████████| 50/50 [00:05<00:00,  9.97it/s]\n",
      "100%|██████████| 50/50 [00:05<00:00,  9.98it/s]\n",
      "100%|██████████| 50/50 [00:05<00:00,  9.69it/s]\n",
      "100%|██████████| 50/50 [00:05<00:00,  9.80it/s]\n",
      "100%|██████████| 50/50 [00:05<00:00,  9.68it/s]\n",
      "100%|██████████| 50/50 [00:05<00:00,  9.73it/s]\n",
      "100%|██████████| 50/50 [00:04<00:00, 10.05it/s]\n",
      "100%|██████████| 50/50 [00:05<00:00,  9.97it/s]\n",
      "100%|██████████| 50/50 [00:05<00:00,  9.76it/s]\n",
      "100%|██████████| 50/50 [00:05<00:00,  9.64it/s]\n",
      "100%|██████████| 50/50 [00:05<00:00,  9.80it/s]\n",
      "100%|██████████| 50/50 [00:05<00:00,  9.98it/s]\n",
      "100%|██████████| 50/50 [00:05<00:00,  9.80it/s]\n",
      "100%|██████████| 50/50 [00:05<00:00,  9.98it/s]\n",
      "100%|██████████| 50/50 [00:05<00:00,  9.88it/s]\n",
      "100%|██████████| 50/50 [00:05<00:00,  9.77it/s]\n",
      "100%|██████████| 50/50 [00:04<00:00, 10.05it/s]\n",
      "100%|██████████| 50/50 [00:05<00:00,  9.60it/s]\n",
      "100%|██████████| 50/50 [00:05<00:00,  9.87it/s]\n",
      "100%|██████████| 50/50 [00:04<00:00, 10.04it/s]\n",
      "100%|██████████| 50/50 [00:05<00:00,  9.79it/s]\n",
      "100%|██████████| 50/50 [00:05<00:00,  9.87it/s]\n",
      "100%|██████████| 50/50 [00:05<00:00,  9.63it/s]\n",
      "100%|██████████| 50/50 [00:05<00:00,  9.92it/s]\n",
      "100%|██████████| 50/50 [00:05<00:00,  9.82it/s]\n",
      "100%|██████████| 50/50 [00:05<00:00,  9.54it/s]\n",
      "100%|██████████| 50/50 [00:05<00:00,  9.88it/s]\n",
      "100%|██████████| 50/50 [00:05<00:00,  9.83it/s]\n",
      "100%|██████████| 50/50 [00:05<00:00,  9.98it/s]\n",
      "100%|██████████| 50/50 [00:05<00:00,  9.78it/s]\n",
      "100%|██████████| 50/50 [00:05<00:00,  9.78it/s]\n",
      "100%|██████████| 50/50 [00:05<00:00,  9.80it/s]\n",
      "100%|██████████| 50/50 [00:05<00:00,  9.86it/s]\n",
      "100%|██████████| 50/50 [00:04<00:00, 10.18it/s]\n",
      "100%|██████████| 50/50 [00:05<00:00,  9.65it/s]\n",
      "100%|██████████| 50/50 [00:05<00:00,  9.88it/s]\n",
      "100%|██████████| 50/50 [00:05<00:00,  9.64it/s]\n",
      "100%|██████████| 50/50 [00:05<00:00,  9.96it/s]\n",
      "100%|██████████| 50/50 [00:04<00:00, 10.18it/s]\n",
      "100%|██████████| 50/50 [00:05<00:00,  9.70it/s]\n",
      "100%|██████████| 50/50 [00:05<00:00,  9.68it/s]\n",
      "100%|██████████| 50/50 [00:05<00:00,  9.76it/s]\n",
      "100%|██████████| 50/50 [00:05<00:00,  9.94it/s]\n",
      "100%|██████████| 50/50 [00:05<00:00,  9.76it/s]\n",
      "100%|██████████| 50/50 [00:05<00:00,  9.91it/s]\n",
      "100%|██████████| 50/50 [00:04<00:00, 10.09it/s]\n",
      "100%|██████████| 50/50 [00:05<00:00,  9.74it/s]\n",
      "100%|██████████| 50/50 [00:05<00:00,  9.97it/s]\n",
      "100%|██████████| 50/50 [00:05<00:00,  9.64it/s]\n",
      "100%|██████████| 50/50 [00:05<00:00,  9.93it/s]\n",
      "100%|██████████| 50/50 [00:04<00:00, 10.12it/s]\n",
      "100%|██████████| 50/50 [00:05<00:00,  9.91it/s]\n",
      "100%|██████████| 50/50 [00:05<00:00,  9.98it/s]\n",
      "100%|██████████| 50/50 [00:05<00:00,  9.86it/s]\n",
      "100%|██████████| 50/50 [00:05<00:00,  9.86it/s]\n"
     ]
    },
    {
     "ename": "AttributeError",
     "evalue": "'list' object has no attribute 'mean'",
     "output_type": "error",
     "traceback": [
      "\u001b[1;31m---------------------------------------------------------------------------\u001b[0m",
      "\u001b[1;31mAttributeError\u001b[0m                            Traceback (most recent call last)",
      "\u001b[1;32m~\\AppData\\Local\\Temp/ipykernel_21996/2548421474.py\u001b[0m in \u001b[0;36m<module>\u001b[1;34m\u001b[0m\n\u001b[0;32m      5\u001b[0m     \u001b[0mclf\u001b[0m\u001b[1;33m.\u001b[0m\u001b[0mfit\u001b[0m\u001b[1;33m(\u001b[0m\u001b[0mX_train\u001b[0m\u001b[1;33m,\u001b[0m \u001b[0my_train\u001b[0m\u001b[1;33m)\u001b[0m\u001b[1;33m\u001b[0m\u001b[1;33m\u001b[0m\u001b[0m\n\u001b[0;32m      6\u001b[0m     \u001b[0mpredicts\u001b[0m\u001b[1;33m.\u001b[0m\u001b[0mappend\u001b[0m\u001b[1;33m(\u001b[0m\u001b[0maccuracy_score\u001b[0m\u001b[1;33m(\u001b[0m\u001b[0mclf\u001b[0m\u001b[1;33m.\u001b[0m\u001b[0mpredict\u001b[0m\u001b[1;33m(\u001b[0m\u001b[0mX_test\u001b[0m\u001b[1;33m)\u001b[0m\u001b[1;33m,\u001b[0m \u001b[0my_test\u001b[0m\u001b[1;33m)\u001b[0m\u001b[1;33m)\u001b[0m\u001b[1;33m\u001b[0m\u001b[1;33m\u001b[0m\u001b[0m\n\u001b[1;32m----> 7\u001b[1;33m \u001b[0mpredicts\u001b[0m\u001b[1;33m.\u001b[0m\u001b[0mmean\u001b[0m\u001b[1;33m(\u001b[0m\u001b[1;33m)\u001b[0m\u001b[1;33m\u001b[0m\u001b[1;33m\u001b[0m\u001b[0m\n\u001b[0m",
      "\u001b[1;31mAttributeError\u001b[0m: 'list' object has no attribute 'mean'"
     ]
    }
   ],
   "source": [
    "predicts = []\n",
    "for i in range(100):\n",
    "    X_train, X_test, y_train, y_test = train_test_split(X, y, test_size=0.1)\n",
    "    clf = MyGradientBoostingClassifier(loss='mse', learning_rate=0.05, n_estimators=50, max_depth=11)\n",
    "    clf.fit(X_train, y_train)\n",
    "    predicts.append(accuracy_score(clf.predict(X_test), y_test))"
   ]
  },
  {
   "cell_type": "code",
   "execution_count": 245,
   "metadata": {},
   "outputs": [
    {
     "data": {
      "text/plain": [
       "0.8938759689922471"
      ]
     },
     "execution_count": 245,
     "metadata": {},
     "output_type": "execute_result"
    }
   ],
   "source": [
    "sum(predicts) / len(predicts)"
   ]
  },
  {
   "cell_type": "markdown",
   "metadata": {},
   "source": [
    "Скор остался таким же. Мне кажется, это из-за того, что нет разницы какая модель базовая, так как мы каждой новой моделью фиксим предыдущую, а за большое количество итераций с этим справится и слабая модель. Тем более 15 минут это больно. Потраченого времени жаль)))"
   ]
  },
  {
   "cell_type": "markdown",
   "metadata": {},
   "source": [
    "## Умная инициализация (1 балл)\n",
    "\n",
    "Попробуйте брать в качестве инициализации бустинга не константу, а какой-то алгоритм и уже от его предикта стартовать итерации бустинга. Попробуйте разные модели из sklearn: линейные модели, рандом форест, svm..\n",
    "\n",
    "Получилось ли улучшить качество? Почему?\n",
    "\n"
   ]
  },
  {
   "cell_type": "code",
   "execution_count": 264,
   "metadata": {},
   "outputs": [
    {
     "name": "stderr",
     "output_type": "stream",
     "text": [
      "100%|██████████| 50/50 [00:05<00:00,  9.97it/s]\n"
     ]
    },
    {
     "data": {
      "text/plain": [
       "0.9001937984496124"
      ]
     },
     "execution_count": 264,
     "metadata": {},
     "output_type": "execute_result"
    }
   ],
   "source": [
    "clf = MyGradientBoostingClassifier(loss='mse', learning_rate=0.05, n_estimators=50, max_depth=11)\n",
    "clf.fit(X_train, y_train)\n",
    "accuracy_score(clf.predict(X_test), y_test)"
   ]
  },
  {
   "cell_type": "code",
   "execution_count": 265,
   "metadata": {
    "jupyter": {
     "outputs_hidden": true
    }
   },
   "outputs": [
    {
     "name": "stderr",
     "output_type": "stream",
     "text": [
      "100%|██████████| 50/50 [00:05<00:00,  9.59it/s]\n"
     ]
    },
    {
     "data": {
      "text/plain": [
       "0.5794573643410853"
      ]
     },
     "execution_count": 265,
     "metadata": {},
     "output_type": "execute_result"
    }
   ],
   "source": [
    "clf = MyGradientBoostingClassifier(loss='mse', learning_rate=0.05, n_estimators=50, max_depth=11)\n",
    "clf.fit(X_train, y_train, init_model=LinearRegression())\n",
    "accuracy_score(clf.predict(X_test), y_test)"
   ]
  },
  {
   "cell_type": "code",
   "execution_count": 269,
   "metadata": {
    "jupyter": {
     "outputs_hidden": true
    },
    "scrolled": true
   },
   "outputs": [
    {
     "name": "stderr",
     "output_type": "stream",
     "text": [
      "100%|██████████| 50/50 [00:04<00:00, 10.06it/s]\n"
     ]
    },
    {
     "data": {
      "text/plain": [
       "0.5780038759689923"
      ]
     },
     "execution_count": 269,
     "metadata": {},
     "output_type": "execute_result"
    }
   ],
   "source": [
    "clf = MyGradientBoostingClassifier(loss='mse', learning_rate=0.05, n_estimators=50, max_depth=11)\n",
    "clf.fit(X_train, y_train, init_model=LogisticRegression(max_iter=1000))\n",
    "accuracy_score(clf.predict(X_test), y_test)"
   ]
  },
  {
   "cell_type": "code",
   "execution_count": 270,
   "metadata": {},
   "outputs": [
    {
     "name": "stderr",
     "output_type": "stream",
     "text": [
      "100%|██████████| 50/50 [00:00<00:00, 275.37it/s]\n"
     ]
    },
    {
     "data": {
      "text/plain": [
       "0.5668604651162791"
      ]
     },
     "execution_count": 270,
     "metadata": {},
     "output_type": "execute_result"
    }
   ],
   "source": [
    "clf = MyGradientBoostingClassifier(loss='mse', learning_rate=0.05, n_estimators=50, max_depth=11)\n",
    "clf.fit(X_train, y_train, init_model=RandomForestClassifier())\n",
    "accuracy_score(clf.predict(X_test), y_test)"
   ]
  },
  {
   "cell_type": "code",
   "execution_count": 271,
   "metadata": {},
   "outputs": [
    {
     "name": "stderr",
     "output_type": "stream",
     "text": [
      "100%|██████████| 50/50 [00:05<00:00,  9.22it/s]\n"
     ]
    },
    {
     "data": {
      "text/plain": [
       "0.5668604651162791"
      ]
     },
     "execution_count": 271,
     "metadata": {},
     "output_type": "execute_result"
    }
   ],
   "source": [
    "clf = MyGradientBoostingClassifier(loss='mse', learning_rate=0.05, n_estimators=50, max_depth=11)\n",
    "clf.fit(X_train, y_train, init_model=RandomForestRegressor())\n",
    "accuracy_score(clf.predict(X_test), y_test)"
   ]
  },
  {
   "cell_type": "code",
   "execution_count": 278,
   "metadata": {
    "scrolled": true
   },
   "outputs": [
    {
     "name": "stderr",
     "output_type": "stream",
     "text": [
      "C:\\Users\\NB\\anaconda3\\lib\\site-packages\\sklearn\\svm\\_base.py:255: ConvergenceWarning: Solver terminated early (max_iter=1000).  Consider pre-processing your data with StandardScaler or MinMaxScaler.\n",
      "  warnings.warn('Solver terminated early (max_iter=%i).'\n",
      "100%|██████████| 50/50 [00:04<00:00, 10.20it/s]\n"
     ]
    },
    {
     "data": {
      "text/plain": [
       "0.2562984496124031"
      ]
     },
     "execution_count": 278,
     "metadata": {},
     "output_type": "execute_result"
    }
   ],
   "source": [
    "clf = MyGradientBoostingClassifier(loss='mse', learning_rate=0.05, n_estimators=50, max_depth=11)\n",
    "clf.fit(X_train, y_train, init_model=SVC(kernel='linear', max_iter=1000))\n",
    "accuracy_score(clf.predict(X_test), y_test)"
   ]
  },
  {
   "cell_type": "markdown",
   "metadata": {},
   "source": [
    "Возможно это связано с тем, что алгоритм начинает переобучаться из-за того, что веса инициализировались с помощью модели"
   ]
  },
  {
   "cell_type": "markdown",
   "metadata": {},
   "source": [
    "## Фидбек (бесценно)"
   ]
  },
  {
   "cell_type": "markdown",
   "metadata": {},
   "source": [
    "* Какие аспекты обучения  ансамблей Вам показались непонятными? Какое место стоит дополнительно объяснить?"
   ]
  },
  {
   "cell_type": "markdown",
   "metadata": {},
   "source": [
    "### Ваш ответ здесь"
   ]
  },
  {
   "cell_type": "markdown",
   "metadata": {},
   "source": [
    "* Здесь Вы можете оставить отзыв о этой домашней работе или о всем курсе."
   ]
  },
  {
   "cell_type": "markdown",
   "metadata": {},
   "source": [
    "### ВАШ ОТЗЫВ ЗДЕСЬ\n",
    "\n"
   ]
  },
  {
   "cell_type": "code",
   "execution_count": null,
   "metadata": {
    "collapsed": true,
    "jupyter": {
     "outputs_hidden": true
    }
   },
   "outputs": [],
   "source": []
  },
  {
   "cell_type": "code",
   "execution_count": null,
   "metadata": {
    "collapsed": true,
    "jupyter": {
     "outputs_hidden": true
    }
   },
   "outputs": [],
   "source": []
  }
 ],
 "metadata": {
  "anaconda-cloud": {},
  "kernelspec": {
   "display_name": "Python 3 (ipykernel)",
   "language": "python",
   "name": "python3"
  },
  "language_info": {
   "codemirror_mode": {
    "name": "ipython",
    "version": 3
   },
   "file_extension": ".py",
   "mimetype": "text/x-python",
   "name": "python",
   "nbconvert_exporter": "python",
   "pygments_lexer": "ipython3",
   "version": "3.9.7"
  }
 },
 "nbformat": 4,
 "nbformat_minor": 4
}
